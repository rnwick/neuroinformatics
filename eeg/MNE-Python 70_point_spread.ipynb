{
    "metadata": {
        "kernelspec": {
            "display_name": "Python 3",
            "language": "python",
            "name": "python3"
        },
        "language_info": {
            "codemirror_mode": {
                "name": "ipython",
                "version": 3
            },
            "file_extension": ".py",
            "mimetype": "text/x-python",
            "name": "python",
            "nbconvert_exporter": "python",
            "pygments_lexer": "ipython3",
            "version": "3.8.10"
        }
    },
    "nbformat_minor": 2,
    "nbformat": 4,
    "cells": [
        {
            "cell_type": "code",
            "source": [
                "%matplotlib inline"
            ],
            "metadata": {
                "jupyter": {
                    "outputs_hidden": false
                },
                "azdata_cell_guid": "4ecc52bf-8aeb-4788-b109-8bb1ccfe9434"
            },
            "outputs": [],
            "execution_count": 2
        },
        {
            "cell_type": "code",
            "source": [
                "## Uncomment If running this from remote **Still working out Qt X server stuff\n",
                "#import pyvista as pv\n",
                "#pv.start_xvfb()\n",
                "\n",
                "#!export MNE_3D_OPTION_ANTIALIAS=false\n",
                "#!export MESA_GL_VERSION_OVERRIDE=3.3\n",
                "\n",
                "#%matplotlib widget\n",
                "\n",
                "#!glxinfo | grep \"OpenGL core profile version\"\n",
                "#!mne sys_info"
            ],
            "metadata": {
                "azdata_cell_guid": "2936c434-022b-4441-ad03-674148e2ea32"
            },
            "outputs": [
                {
                    "output_type": "stream",
                    "name": "stdout",
                    "text": "Warning: Cannot change to a different GUI toolkit: notebook. Using widget instead.\nOpenGL core profile version string: 3.3 (Core Profile) Mesa 20.1.4\nPlatform:      Linux-4.18.0-240.22.1.el8_3.x86_64-x86_64-with-centos-8.3.2011\nPython:        3.7.10 (default, Feb 26 2021, 18:47:35)  [GCC 7.3.0]\nExecutable:    /home/rnwick/miniconda3/envs/mne-python/bin/python\nCPU:           x86_64: 12 cores\nMemory:        7.6 GB\n\nmne:           0.22.0\nnumpy:         1.20.2 {blas=openblas, lapack=openblas}\nscipy:         1.6.2\nmatplotlib:    3.3.4 {backend=module://ipykernel.pylab.backend_inline}\n\nsklearn:       0.24.2\nnumba:         0.53.1\nnibabel:       3.2.1\nnilearn:       0.7.1\ndipy:          1.4.1\ncupy:          Not found\npandas:        1.2.4\nmayavi:        Not found\npyvista:       0.30.1 {pyvistaqt=0.4.0, OpenGL 3.3 (Core Profile) Mesa 20.1.4 via llvmpipe (LLVM 10.0.0, 128 bits)}\nvtk:           9.0.1\nPyQt5:         5.12.3\n\u001b[0m"
                }
            ],
            "execution_count": 10
        },
        {
            "cell_type": "markdown",
            "source": [
                "\n",
                "# Corrupt known signal with point spread\n",
                "\n",
                "The aim of this tutorial is to demonstrate how to put a known signal at a\n",
                "desired location(s) in a :class:`mne.SourceEstimate` and then corrupt the\n",
                "signal with point-spread by applying a forward and inverse solution.\n"
            ],
            "metadata": {
                "azdata_cell_guid": "b4eaa73b-0ffc-40cb-888c-3138a576a6ef"
            }
        },
        {
            "cell_type": "code",
            "source": [
                "import os.path as op\n",
                "\n",
                "import numpy as np\n",
                "\n",
                "import mne\n",
                "from mne.datasets import sample\n",
                "\n",
                "from mne.minimum_norm import read_inverse_operator, apply_inverse\n",
                "from mne.simulation import simulate_stc, simulate_evoked"
            ],
            "metadata": {
                "jupyter": {
                    "outputs_hidden": false
                },
                "azdata_cell_guid": "e19180b7-2509-485d-9bba-b8ecbc31519e"
            },
            "outputs": [],
            "execution_count": 3
        },
        {
            "cell_type": "markdown",
            "source": [
                "First, we set some parameters.\n",
                "\n"
            ],
            "metadata": {
                "azdata_cell_guid": "9be65753-80ca-4cda-8001-4fe43bd475fa"
            }
        },
        {
            "cell_type": "code",
            "source": [
                "seed = 42\n",
                "\n",
                "# parameters for inverse method\n",
                "method = 'sLORETA'\n",
                "snr = 3.\n",
                "lambda2 = 1.0 / snr ** 2\n",
                "\n",
                "# signal simulation parameters\n",
                "# do not add extra noise to the known signals\n",
                "nave = np.inf\n",
                "T = 100\n",
                "times = np.linspace(0, 1, T)\n",
                "dt = times[1] - times[0]\n",
                "\n",
                "# Paths to MEG data\n",
                "data_path = ('../../../../data/tutorials/MNE-sample-data')\n",
                "subjects_dir = op.join(data_path, 'subjects')\n",
                "fname_fwd = op.join(data_path, 'MEG', 'sample',\n",
                "                    'sample_audvis-meg-oct-6-fwd.fif')\n",
                "fname_inv = op.join(data_path, 'MEG', 'sample',\n",
                "                    'sample_audvis-meg-oct-6-meg-fixed-inv.fif')\n",
                "\n",
                "fname_evoked = op.join(data_path, 'MEG', 'sample',\n",
                "                       'sample_audvis-ave.fif')\n",
                "\n",
                "print(subjects_dir)"
            ],
            "metadata": {
                "jupyter": {
                    "outputs_hidden": false
                },
                "azdata_cell_guid": "38ccb055-59f9-460e-865e-069c158c2e92"
            },
            "outputs": [
                {
                    "output_type": "stream",
                    "name": "stdout",
                    "text": "../../../../data/tutorials/MNE-sample-data\\subjects\n"
                }
            ],
            "execution_count": 4
        },
        {
            "cell_type": "markdown",
            "source": [
                "## Load the MEG data\n",
                "\n"
            ],
            "metadata": {
                "azdata_cell_guid": "cea1227d-9b5d-4af1-89dd-dc7bba3227ce"
            }
        },
        {
            "cell_type": "code",
            "source": [
                "fwd = mne.read_forward_solution(fname_fwd)\n",
                "fwd = mne.convert_forward_solution(fwd, force_fixed=True, surf_ori=True,\n",
                "                                   use_cps=False)\n",
                "fwd['info']['bads'] = []\n",
                "inv_op = read_inverse_operator(fname_inv)\n",
                "\n",
                "raw = mne.io.read_raw_fif(op.join(data_path, 'MEG', 'sample',\n",
                "                                  'sample_audvis_raw.fif'))\n",
                "raw.set_eeg_reference(projection=True)\n",
                "events = mne.find_events(raw)\n",
                "event_id = {'Auditory/Left': 1, 'Auditory/Right': 2}\n",
                "epochs = mne.Epochs(raw, events, event_id, baseline=(None, 0), preload=True)\n",
                "epochs.info['bads'] = []\n",
                "evoked = epochs.average()\n",
                "\n",
                "labels = mne.read_labels_from_annot('sample', subjects_dir=subjects_dir)\n",
                "label_names = [label.name for label in labels]\n",
                "n_labels = len(labels)"
            ],
            "metadata": {
                "jupyter": {
                    "outputs_hidden": false
                },
                "azdata_cell_guid": "33c66d3c-6369-473b-80bd-1545434f55b1"
            },
            "outputs": [
                {
                    "output_type": "stream",
                    "name": "stdout",
                    "text": "Reading forward solution from ../../../../data/tutorials/MNE-sample-data\\MEG\\sample\\sample_audvis-meg-oct-6-fwd.fif...\n    Reading a source space...\n    Computing patch statistics...\n    Patch information added...\n    Distance information added...\n    [done]\n    Reading a source space...\n    Computing patch statistics...\n    Patch information added...\n    Distance information added...\n    [done]\n    2 source spaces read\n    Desired named matrix (kind = 3523) not available\n    Read MEG forward solution (7498 sources, 306 channels, free orientations)\n    Source spaces transformed to the forward solution coordinate frame\n    Changing to fixed-orientation forward solution with surface-based source orientations...\n    [done]\nReading inverse operator decomposition from ../../../../data/tutorials/MNE-sample-data\\MEG\\sample\\sample_audvis-meg-oct-6-meg-fixed-inv.fif...\n    Reading inverse operator info...\n    [done]\n    Reading inverse operator decomposition...\n    [done]\n    305 x 305 full covariance (kind = 1) found.\n    Read a total of 4 projection items:\n        PCA-v1 (1 x 102) active\n        PCA-v2 (1 x 102) active\n        PCA-v3 (1 x 102) active\n        Average EEG reference (1 x 60) active\n    Noise covariance matrix read.\n    7498 x 7498 diagonal covariance (kind = 2) found.\n    Source covariance matrix read.\n    Did not find the desired covariance matrix (kind = 6)\n    7498 x 7498 diagonal covariance (kind = 5) found.\n    Depth priors read.\n    Did not find the desired covariance matrix (kind = 3)\n    Reading a source space...\n    Computing patch statistics...\n    Patch information added...\n    Distance information added...\n    [done]\n    Reading a source space...\n    Computing patch statistics...\n    Patch information added...\n    Distance information added...\n    [done]\n    2 source spaces read\n    Read a total of 4 projection items:\n        PCA-v1 (1 x 102) active\n        PCA-v2 (1 x 102) active\n        PCA-v3 (1 x 102) active\n        Average EEG reference (1 x 60) active\n    Source spaces transformed to the inverse solution coordinate frame\nOpening raw data file ../../../../data/tutorials/MNE-sample-data\\MEG\\sample\\sample_audvis_raw.fif...\n    Read a total of 3 projection items:\n        PCA-v1 (1 x 102)  idle\n        PCA-v2 (1 x 102)  idle\n        PCA-v3 (1 x 102)  idle\n    Range : 25800 ... 192599 =     42.956 ...   320.670 secs\nReady.\nAdding average EEG reference projection.\n1 projection items deactivated\n320 events found\nEvent IDs: [ 1  2  3  4  5 32]\nNot setting metadata\nNot setting metadata\n145 matching events found\nSetting baseline interval to [-0.19979521315838786, 0.0] sec\nApplying baseline correction (mode: mean)\nCreated an SSP operator (subspace dimension = 4)\n4 projection items activated\nLoading data for 145 events and 421 original time points ...\n0 bad epochs dropped\nReading labels from parcellation...\n   read 34 labels from ../../../../data/tutorials/MNE-sample-data\\subjects\\sample\\label\\lh.aparc.annot\n   read 34 labels from ../../../../data/tutorials/MNE-sample-data\\subjects\\sample\\label\\rh.aparc.annot\n"
                }
            ],
            "execution_count": 5
        },
        {
            "cell_type": "markdown",
            "source": [
                "## Estimate the background noise covariance from the baseline period\n",
                "\n"
            ],
            "metadata": {
                "azdata_cell_guid": "41e3ef86-8131-43bc-bb1c-e674ed701003"
            }
        },
        {
            "cell_type": "code",
            "source": [
                "cov = mne.compute_covariance(epochs, tmin=None, tmax=0.)"
            ],
            "metadata": {
                "jupyter": {
                    "outputs_hidden": false
                },
                "azdata_cell_guid": "82cec56c-939c-4cf6-9c1b-43d720ba7d41"
            },
            "outputs": [
                {
                    "output_type": "stream",
                    "name": "stdout",
                    "text": "Computing rank from data with rank=None\n    Using tolerance 1.4e-08 (2.2e-16 eps * 306 dim * 2.1e+05  max singular value)\n    Estimated rank (mag + grad): 303\n    MEG: rank 303 computed from 306 data channels with 3 projectors\n    Using tolerance 4.9e-11 (2.2e-16 eps * 60 dim * 3.7e+03  max singular value)\n    Estimated rank (eeg): 59\n    EEG: rank 59 computed from 60 data channels with 1 projector\n    Created an SSP operator (subspace dimension = 4)\n    Setting small MEG eigenvalues to zero (without PCA)\n    Setting small EEG eigenvalues to zero (without PCA)\nReducing data rank from 366 -> 362\nEstimating covariance using EMPIRICAL\nDone.\nNumber of samples used : 17545\n[done]\n"
                }
            ],
            "execution_count": 6
        },
        {
            "cell_type": "markdown",
            "source": [
                "## Generate sinusoids in two spatially distant labels\n",
                "\n"
            ],
            "metadata": {
                "azdata_cell_guid": "1a18a955-b22c-4aa6-b3a3-f6968991c3ff"
            }
        },
        {
            "cell_type": "code",
            "source": [
                "# The known signal is all zero-s off of the two labels of interest\n",
                "signal = np.zeros((n_labels, T))\n",
                "idx = label_names.index('inferiorparietal-lh')\n",
                "signal[idx, :] = 1e-7 * np.sin(5 * 2 * np.pi * times)\n",
                "idx = label_names.index('rostralmiddlefrontal-rh')\n",
                "signal[idx, :] = 1e-7 * np.sin(7 * 2 * np.pi * times)"
            ],
            "metadata": {
                "jupyter": {
                    "outputs_hidden": false
                },
                "azdata_cell_guid": "4be6dd23-e891-4ca8-aca1-b4757b9ece5a"
            },
            "outputs": [],
            "execution_count": 7
        },
        {
            "cell_type": "markdown",
            "source": [
                "## Find the center vertices in source space of each label\n",
                "\n",
                "We want the known signal in each label to only be active at the center. We\n",
                "create a mask for each label that is 1 at the center vertex and 0 at all\n",
                "other vertices in the label. This mask is then used when simulating\n",
                "source-space data.\n",
                "\n"
            ],
            "metadata": {
                "azdata_cell_guid": "a8f80b4b-5845-4a4f-b212-8c152ec8de85"
            }
        },
        {
            "cell_type": "code",
            "source": [
                "hemi_to_ind = {'lh': 0, 'rh': 1}\n",
                "for i, label in enumerate(labels):\n",
                "    # The `center_of_mass` function needs labels to have values.\n",
                "    labels[i].values.fill(1.)\n",
                "\n",
                "    # Restrict the eligible vertices to be those on the surface under\n",
                "    # consideration and within the label.\n",
                "    surf_vertices = fwd['src'][hemi_to_ind[label.hemi]]['vertno']\n",
                "    restrict_verts = np.intersect1d(surf_vertices, label.vertices)\n",
                "    com = labels[i].center_of_mass(subject='sample',\n",
                "                                   subjects_dir=subjects_dir,\n",
                "                                   restrict_vertices=restrict_verts,\n",
                "                                   surf='white')\n",
                "\n",
                "    # Convert the center of vertex index from surface vertex list to Label's\n",
                "    # vertex list.\n",
                "    cent_idx = np.where(label.vertices == com)[0][0]\n",
                "\n",
                "    # Create a mask with 1 at center vertex and zeros elsewhere.\n",
                "    labels[i].values.fill(0.)\n",
                "    labels[i].values[cent_idx] = 1."
            ],
            "metadata": {
                "jupyter": {
                    "outputs_hidden": false
                },
                "azdata_cell_guid": "9eb2c6e5-b2ac-4b2f-8500-5a682ae56061"
            },
            "outputs": [],
            "execution_count": 8
        },
        {
            "cell_type": "markdown",
            "source": [
                "## Create source-space data with known signals\n",
                "\n",
                "Put known signals onto surface vertices using the array of signals and\n",
                "the label masks (stored in labels[i].values).\n",
                "\n"
            ],
            "metadata": {
                "azdata_cell_guid": "7182ada3-a59a-4971-8429-dc5bd4774075"
            }
        },
        {
            "cell_type": "code",
            "source": [
                "stc_gen = simulate_stc(fwd['src'], labels, signal, times[0], dt,\n",
                "                       value_fun=lambda x: x)"
            ],
            "metadata": {
                "jupyter": {
                    "outputs_hidden": false
                },
                "azdata_cell_guid": "f7f45812-7bee-4567-ac1f-e03a86052d43"
            },
            "outputs": [],
            "execution_count": 9
        },
        {
            "cell_type": "markdown",
            "source": [
                "## Plot original signals\n",
                "\n",
                "Note that the original signals are highly concentrated (point) sources.\n",
                "\n",
                "\n"
            ],
            "metadata": {
                "azdata_cell_guid": "d9100d8c-ba9f-4ee0-84eb-a876282b5dec"
            }
        },
        {
            "cell_type": "code",
            "source": [],
            "metadata": {
                "azdata_cell_guid": "96b46e20-308a-41f5-958c-5432f1d058a1"
            },
            "outputs": [],
            "execution_count": null
        },
        {
            "cell_type": "code",
            "source": [
                "kwargs = dict(subjects_dir=subjects_dir, hemi='split', smoothing_steps=4,\n",
                "              time_unit='s', initial_time=0.05, size=1200,\n",
                "              views=['lat', 'med'])\n",
                "clim = dict(kind='value', pos_lims=[1e-9, 1e-8, 1e-7])\n",
                "#brain_gen = stc_gen.plot(clim=clim, **kwargs)"
            ],
            "metadata": {
                "jupyter": {
                    "outputs_hidden": false
                },
                "azdata_cell_guid": "31f78b08-4256-487a-bee0-777703a6d520"
            },
            "outputs": [],
            "execution_count": 10
        },
        {
            "cell_type": "markdown",
            "source": [
                "## Simulate sensor-space signals\n",
                "\n",
                "Use the forward solution and add Gaussian noise to simulate sensor-space\n",
                "(evoked) data from the known source-space signals. The amount of noise is\n",
                "controlled by ``nave`` (higher values imply less noise).\n",
                "\n",
                "\n"
            ],
            "metadata": {
                "azdata_cell_guid": "f0b9c537-4dce-493b-9b24-688d818f2099"
            }
        },
        {
            "cell_type": "code",
            "source": [
                "method = 'sLORETA'\n",
                "\n",
                "evoked_gen = simulate_evoked(fwd, stc_gen, evoked.info, cov, nave,\n",
                "                             random_state=seed)\n",
                "\n",
                "# Map the simulated sensor-space data to source-space using the inverse\n",
                "# operator.\n",
                "stc_inv = apply_inverse(evoked_gen, inv_op, lambda2, method=method)"
            ],
            "metadata": {
                "jupyter": {
                    "outputs_hidden": false
                },
                "azdata_cell_guid": "88f395b4-56d5-4bad-a35d-fcc2851e958d"
            },
            "outputs": [
                {
                    "output_type": "stream",
                    "name": "stdout",
                    "text": "Projecting source estimate to sensor space...\n[done]\n4 projection items deactivated\nCreated an SSP operator (subspace dimension = 3)\n4 projection items activated\nSSP projectors applied...\nPreparing the inverse operator for use...\n    Scaled noise and source covariance from nave = 1 to nave = 1\n    Created the regularized inverter\n    Created an SSP operator (subspace dimension = 3)\n    Created the whitener using a noise covariance matrix with rank 302 (3 small eigenvalues omitted)\n    Computing noise-normalization factors (sLORETA)...\n[done]\nApplying inverse operator to \"\"...\n    Picked 305 channels from the data\n    Computing inverse...\n    Eigenleads need to be weighted ...\n    Computing residual...\n    Explained  99.7% variance\n    sLORETA...\n[done]\n"
                }
            ],
            "execution_count": 13
        },
        {
            "cell_type": "markdown",
            "source": [
                "## Plot the point-spread of corrupted signal\n",
                "\n",
                "Notice that after applying the forward- and inverse-operators to the known\n",
                "point sources that the point sources have spread across the source-space.\n",
                "This spread is due to the minimum norm solution so that the signal leaks to\n",
                "nearby vertices with similar orientations so that signal ends up crossing the\n",
                "sulci and gyri.\n",
                "\n"
            ],
            "metadata": {
                "azdata_cell_guid": "25e51685-3f4e-4fd9-ad0c-5ec0d5bfbf2e"
            }
        },
        {
            "cell_type": "code",
            "source": [
                "brain_inv = stc_inv.plot(**kwargs)\n",
                "\n",
                "## Saving videos broken at the moment\n",
                "#brain_inv.save_movie('test.ffmpeg')\n",
                "\n"
            ],
            "metadata": {
                "jupyter": {
                    "outputs_hidden": false
                },
                "azdata_cell_guid": "12e256f5-afd4-4979-abcc-fe58bdf38b3d"
            },
            "outputs": [
                {
                    "output_type": "stream",
                    "name": "stdout",
                    "text": "Using control points [0.45968308 0.57021267 1.69354621]\n"
                }
            ],
            "execution_count": 14
        },
        {
            "cell_type": "markdown",
            "source": [
                "## Exercises\n",
                "   - Change the ``method`` parameter to either ``'dSPM'`` or ``'MNE'`` to\n",
                "     explore the effect of the inverse method.\n",
                "   - Try setting ``evoked_snr`` to a small, finite value, e.g. 3., to see the\n",
                "     effect of noise.\n",
                "\n"
            ],
            "metadata": {
                "azdata_cell_guid": "e24fcb37-47c7-459b-b10a-43dbe3f65648"
            }
        },
        {
            "cell_type": "markdown",
            "source": [
                "# Method as dSPM"
            ],
            "metadata": {
                "azdata_cell_guid": "4f8d637f-d790-4864-ba57-60509a728ab1"
            }
        },
        {
            "cell_type": "code",
            "source": [
                "seed = 42\n",
                "\n",
                "# parameters for inverse method\n",
                "method = 'dSPM'\n",
                "snr = 3.\n",
                "lambda2 = 1.0 / snr ** 2\n",
                "\n",
                "evoked_gen = simulate_evoked(fwd, stc_gen, evoked.info, cov, nave,\n",
                "                             random_state=seed)\n",
                "\n",
                "# Map the simulated sensor-space data to source-space using the inverse\n",
                "# operator.\n",
                "stc_inv = apply_inverse(evoked_gen, inv_op, lambda2, method=method)\n",
                "brain_inv = stc_inv.plot(**kwargs)"
            ],
            "metadata": {
                "azdata_cell_guid": "2523645b-7d53-4c4a-b525-a3a20452db33"
            },
            "outputs": [
                {
                    "output_type": "stream",
                    "name": "stdout",
                    "text": "Projecting source estimate to sensor space...\n[done]\n4 projection items deactivated\nCreated an SSP operator (subspace dimension = 3)\n4 projection items activated\nSSP projectors applied...\nPreparing the inverse operator for use...\n    Scaled noise and source covariance from nave = 1 to nave = 1\n    Created the regularized inverter\n    Created an SSP operator (subspace dimension = 3)\n    Created the whitener using a noise covariance matrix with rank 302 (3 small eigenvalues omitted)\n    Computing noise-normalization factors (sLORETA)...\n[done]\nApplying inverse operator to \"\"...\n    Picked 305 channels from the data\n    Computing inverse...\n    Eigenleads need to be weighted ...\n    Computing residual...\n    Explained  96.0% variance\n    sLORETA...\n[done]\nUsing control points [1.3776512 1.6437969 4.3271975]\n"
                }
            ],
            "execution_count": 19
        },
        {
            "cell_type": "markdown",
            "source": [
                "# Method as MNE"
            ],
            "metadata": {
                "azdata_cell_guid": "e55f0959-15e4-464e-bb34-9479d10ce20d"
            }
        },
        {
            "cell_type": "code",
            "source": [
                "seed = 42\n",
                "\n",
                "# parameters for inverse method\n",
                "method = 'MNE'\n",
                "snr = 3.\n",
                "lambda2 = 1.0 / snr ** 2\n",
                "\n",
                "evoked_gen = simulate_evoked(fwd, stc_gen, evoked.info, cov, nave,\n",
                "                             random_state=seed)\n",
                "\n",
                "# Map the simulated sensor-space data to source-space using the inverse\n",
                "# operator.\n",
                "stc_inv = apply_inverse(evoked_gen, inv_op, lambda2, method=method)\n",
                "brain_inv = stc_inv.plot(**kwargs)\n",
                "\n"
            ],
            "metadata": {
                "azdata_cell_guid": "5dd6c06c-e787-4eb7-92e0-62644dbe7eae"
            },
            "outputs": [
                {
                    "output_type": "stream",
                    "name": "stdout",
                    "text": "Projecting source estimate to sensor space...\n[done]\n4 projection items deactivated\nCreated an SSP operator (subspace dimension = 3)\n4 projection items activated\nSSP projectors applied...\nPreparing the inverse operator for use...\n    Scaled noise and source covariance from nave = 1 to nave = 1\n    Created the regularized inverter\n    Created an SSP operator (subspace dimension = 3)\n    Created the whitener using a noise covariance matrix with rank 302 (3 small eigenvalues omitted)\nApplying inverse operator to \"\"...\n    Picked 305 channels from the data\n    Computing inverse...\n    Eigenleads need to be weighted ...\n    Computing residual...\n    Explained  99.7% variance\n[done]\nUsing control points [2.72983620e-10 3.45480986e-10 1.09652034e-09]\nReading labels from parcellation...\n   read 34 labels from ../../../../data/tutorials/MNE-sample-data\\subjects\\sample\\label\\lh.aparc.annot\nReading labels from parcellation...\n   read 34 labels from ../../../../data/tutorials/MNE-sample-data\\subjects\\sample\\label\\rh.aparc.annot\nReading labels from parcellation...\n   read 75 labels from ../../../../data/tutorials/MNE-sample-data\\subjects\\sample\\label\\lh.aparc.a2009s.annot\nReading labels from parcellation...\n   read 75 labels from ../../../../data/tutorials/MNE-sample-data\\subjects\\sample\\label\\rh.aparc.a2009s.annot\nReading labels from parcellation...\n   read 13 labels from ../../../../data/tutorials/MNE-sample-data\\subjects\\sample\\label\\lh.BA.annot\nReading labels from parcellation...\n   read 13 labels from ../../../../data/tutorials/MNE-sample-data\\subjects\\sample\\label\\rh.BA.annot\n"
                }
            ],
            "execution_count": 12
        },
        {
            "cell_type": "markdown",
            "source": [
                "# Method as sLORETA SNR 10"
            ],
            "metadata": {
                "azdata_cell_guid": "87669144-9a9a-416f-9804-3b0b8473b8a1"
            }
        },
        {
            "cell_type": "code",
            "source": [
                "seed = 42\n",
                "\n",
                "# parameters for inverse method\n",
                "method = 'sLORETA'\n",
                "snr = 10.\n",
                "lambda2 = 1.0 / snr ** 2\n",
                "\n",
                "evoked_gen = simulate_evoked(fwd, stc_gen, evoked.info, cov, nave,\n",
                "                             random_state=seed)\n",
                "\n",
                "# Map the simulated sensor-space data to source-space using the inverse\n",
                "# operator.\n",
                "stc_inv = apply_inverse(evoked_gen, inv_op, lambda2, method=method)\n",
                "brain_inv = stc_inv.plot(**kwargs)"
            ],
            "metadata": {
                "azdata_cell_guid": "d2095cac-af08-4068-b5bc-b85f395c4ff6"
            },
            "outputs": [
                {
                    "output_type": "stream",
                    "name": "stdout",
                    "text": "Projecting source estimate to sensor space...\n[done]\n4 projection items deactivated\nCreated an SSP operator (subspace dimension = 3)\n4 projection items activated\nSSP projectors applied...\nPreparing the inverse operator for use...\n    Scaled noise and source covariance from nave = 1 to nave = 1\n    Created the regularized inverter\n    Created an SSP operator (subspace dimension = 3)\n    Created the whitener using a noise covariance matrix with rank 302 (3 small eigenvalues omitted)\n    Computing noise-normalization factors (sLORETA)...\n[done]\nApplying inverse operator to \"\"...\n    Picked 305 channels from the data\n    Computing inverse...\n    Eigenleads need to be weighted ...\n    Computing residual...\n    Explained 100.0% variance\n    sLORETA...\n[done]\nUsing control points [0.12844106 0.1632574  0.54700837]\n"
                }
            ],
            "execution_count": 20
        },
        {
            "cell_type": "markdown",
            "source": [
                "# Method as sLORETA SNR 1"
            ],
            "metadata": {
                "azdata_cell_guid": "0064391b-9e83-4748-99fd-af7c739cc6dd"
            }
        },
        {
            "cell_type": "code",
            "source": [
                "seed = 42\n",
                "\n",
                "# parameters for inverse method\n",
                "method = 'sLORETA'\n",
                "snr = 1.\n",
                "lambda2 = 1.0 / snr ** 2\n",
                "\n",
                "evoked_gen = simulate_evoked(fwd, stc_gen, evoked.info, cov, nave,\n",
                "                             random_state=seed)\n",
                "\n",
                "# Map the simulated sensor-space data to source-space using the inverse\n",
                "# operator.\n",
                "stc_inv = apply_inverse(evoked_gen, inv_op, lambda2, method=method)\n",
                "brain_inv = stc_inv.plot(**kwargs)"
            ],
            "metadata": {
                "azdata_cell_guid": "ba34cca0-ce6c-47d4-b02f-49af7bab20d4"
            },
            "outputs": [
                {
                    "output_type": "stream",
                    "name": "stdout",
                    "text": "Projecting source estimate to sensor space...\n[done]\n4 projection items deactivated\nCreated an SSP operator (subspace dimension = 3)\n4 projection items activated\nSSP projectors applied...\nPreparing the inverse operator for use...\n    Scaled noise and source covariance from nave = 1 to nave = 1\n    Created the regularized inverter\n    Created an SSP operator (subspace dimension = 3)\n    Created the whitener using a noise covariance matrix with rank 302 (3 small eigenvalues omitted)\n    Computing noise-normalization factors (sLORETA)...\n[done]\nApplying inverse operator to \"\"...\n    Picked 305 channels from the data\n    Computing inverse...\n    Eigenleads need to be weighted ...\n    Computing residual...\n    Explained  96.0% variance\n    sLORETA...\n[done]\nUsing control points [1.3776512 1.6437969 4.3271975]\n"
                }
            ],
            "execution_count": 21
        },
        {
            "cell_type": "code",
            "source": [],
            "metadata": {
                "azdata_cell_guid": "0f98f647-a634-4955-901d-1eb0c8f490e8"
            },
            "outputs": [],
            "execution_count": null
        }
    ]
}